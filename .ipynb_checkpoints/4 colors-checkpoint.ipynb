{
 "cells": [
  {
   "cell_type": "markdown",
   "metadata": {},
   "source": [
    "# 추가내용:\n",
    "1. 이름을 Hub로 변경\n",
    "2. 색깔을 4가지로 변경\n",
    "3. popup 추가 - 컬럼 병합, 날짜 타입 변경, lambda\n",
    "4. add more hubs\n",
    "\n",
    "### reference\n",
    "https://towardsdatascience.com/visualizing-air-pollution-with-folium-maps-4ce1a1880677"
   ]
  },
  {
   "cell_type": "code",
   "execution_count": 72,
   "metadata": {},
   "outputs": [],
   "source": [
    "import pandas as pd\n",
    "import numpy as np\n",
    "\n",
    "import seaborn as sns\n",
    "import folium\n",
    "from folium.plugins import TimestampedGeoJson"
   ]
  },
  {
   "cell_type": "code",
   "execution_count": 73,
   "metadata": {},
   "outputs": [],
   "source": [
    "hubs = {\n",
    "    1: {\n",
    "        'notation' : '1PITT',\n",
    "        'name' :'pitt hub',\n",
    "        'bin_edges' : np.array([1000,2500,3500,4000])\n",
    "    },\n",
    "    2: {\n",
    "        'notation' : '2MNEA',\n",
    "        'name' :'mnea hub',\n",
    "        'bin_edges' : np.array([1000,2500,3500,4000])\n",
    "    },\n",
    "    7: {'notation' : '3IDNI',\n",
    "        'name' :'indi hub',\n",
    "        'bin_edges' : np.array([1000,2500,3500,4000])\n",
    "    },\n",
    "    8: {'notation' : '4KCTY',\n",
    "        'name' :'kcty hub',\n",
    "        'bin_edges' : np.array([1000,2500,3500,4000])\n",
    "    },\n",
    "    10: {'notation' : '6FRES',\n",
    "        'name' :'fres hub',\n",
    "         'bin_edges' : np.array([1000,2500,3500,4000])\n",
    "    }\n",
    "}"
   ]
  },
  {
   "cell_type": "code",
   "execution_count": 74,
   "metadata": {},
   "outputs": [
    {
     "data": {
      "image/png": "[encoded data removed]",
      "text/plain": [
       "<Figure size 288x72 with 1 Axes>"
      ]
     },
     "metadata": {
      "needs_background": "light"
     },
     "output_type": "display_data"
    }
   ],
   "source": [
    "color_scale = np.array(['#1a9850','#fee08b','#f46d43','#a50026'])\n",
    "sns.palplot(sns.color_palette(color_scale))"
   ]
  },
  {
   "cell_type": "markdown",
   "metadata": {},
   "source": [
    "http://colorbrewer2.org/#type=diverging&scheme=RdYlGn&n=10"
   ]
  },
  {
   "cell_type": "code",
   "execution_count": 75,
   "metadata": {},
   "outputs": [
    {
     "data": {
      "text/html": [
       "<div>\n",
       "<style scoped>\n",
       "    .dataframe tbody tr th:only-of-type {\n",
       "        vertical-align: middle;\n",
       "    }\n",
       "\n",
       "    .dataframe tbody tr th {\n",
       "        vertical-align: top;\n",
       "    }\n",
       "\n",
       "    .dataframe thead th {\n",
       "        text-align: right;\n",
       "    }\n",
       "</style>\n",
       "<table border=\"1\" class=\"dataframe\">\n",
       "  <thead>\n",
       "    <tr style=\"text-align: right;\">\n",
       "      <th></th>\n",
       "      <th>PharmacyID</th>\n",
       "      <th>fac_id</th>\n",
       "      <th>mmdd</th>\n",
       "      <th>pack</th>\n",
       "      <th>estimated</th>\n",
       "      <th>cum</th>\n",
       "      <th>leftover</th>\n",
       "      <th>color</th>\n",
       "      <th>name</th>\n",
       "      <th>lat</th>\n",
       "      <th>lng</th>\n",
       "    </tr>\n",
       "  </thead>\n",
       "  <tbody>\n",
       "    <tr>\n",
       "      <th>0</th>\n",
       "      <td>1PITT</td>\n",
       "      <td>15</td>\n",
       "      <td>20200125</td>\n",
       "      <td>565</td>\n",
       "      <td>791.0</td>\n",
       "      <td>791</td>\n",
       "      <td>3209.0</td>\n",
       "      <td>#4393c3</td>\n",
       "      <td>PR - AMHERST MEADOWS</td>\n",
       "      <td>40.81611</td>\n",
       "      <td>-81.524592</td>\n",
       "    </tr>\n",
       "    <tr>\n",
       "      <th>1</th>\n",
       "      <td>1PITT</td>\n",
       "      <td>15</td>\n",
       "      <td>20200126</td>\n",
       "      <td>547</td>\n",
       "      <td>765.8</td>\n",
       "      <td>1556</td>\n",
       "      <td>2443.2</td>\n",
       "      <td>#d1e5f0</td>\n",
       "      <td>PR - AMHERST MEADOWS</td>\n",
       "      <td>40.81611</td>\n",
       "      <td>-81.524592</td>\n",
       "    </tr>\n",
       "    <tr>\n",
       "      <th>2</th>\n",
       "      <td>1PITT</td>\n",
       "      <td>15</td>\n",
       "      <td>20200127</td>\n",
       "      <td>555</td>\n",
       "      <td>777.0</td>\n",
       "      <td>2333</td>\n",
       "      <td>1666.2</td>\n",
       "      <td>#fddbc7</td>\n",
       "      <td>PR - AMHERST MEADOWS</td>\n",
       "      <td>40.81611</td>\n",
       "      <td>-81.524592</td>\n",
       "    </tr>\n",
       "    <tr>\n",
       "      <th>3</th>\n",
       "      <td>1PITT</td>\n",
       "      <td>15</td>\n",
       "      <td>20200128</td>\n",
       "      <td>578</td>\n",
       "      <td>809.2</td>\n",
       "      <td>3143</td>\n",
       "      <td>857.0</td>\n",
       "      <td>#d6604d</td>\n",
       "      <td>PR - AMHERST MEADOWS</td>\n",
       "      <td>40.81611</td>\n",
       "      <td>-81.524592</td>\n",
       "    </tr>\n",
       "    <tr>\n",
       "      <th>4</th>\n",
       "      <td>1PITT</td>\n",
       "      <td>15</td>\n",
       "      <td>20200129</td>\n",
       "      <td>542</td>\n",
       "      <td>758.8</td>\n",
       "      <td>3901</td>\n",
       "      <td>98.2</td>\n",
       "      <td>#b2182b</td>\n",
       "      <td>PR - AMHERST MEADOWS</td>\n",
       "      <td>40.81611</td>\n",
       "      <td>-81.524592</td>\n",
       "    </tr>\n",
       "  </tbody>\n",
       "</table>\n",
       "</div>"
      ],
      "text/plain": [
       "  PharmacyID  fac_id      mmdd  pack  estimated   cum  leftover    color  \\\n",
       "0      1PITT      15  20200125   565      791.0   791    3209.0  #4393c3   \n",
       "1      1PITT      15  20200126   547      765.8  1556    2443.2  #d1e5f0   \n",
       "2      1PITT      15  20200127   555      777.0  2333    1666.2  #fddbc7   \n",
       "3      1PITT      15  20200128   578      809.2  3143     857.0  #d6604d   \n",
       "4      1PITT      15  20200129   542      758.8  3901      98.2  #b2182b   \n",
       "\n",
       "                   name       lat        lng  \n",
       "0  PR - AMHERST MEADOWS  40.81611 -81.524592  \n",
       "1  PR - AMHERST MEADOWS  40.81611 -81.524592  \n",
       "2  PR - AMHERST MEADOWS  40.81611 -81.524592  \n",
       "3  PR - AMHERST MEADOWS  40.81611 -81.524592  \n",
       "4  PR - AMHERST MEADOWS  40.81611 -81.524592  "
      ]
     },
     "execution_count": 75,
     "metadata": {},
     "output_type": "execute_result"
    }
   ],
   "source": [
    "df = pd.read_excel('data/pa.xlsx', dtype = {'cum':int})\n",
    "df.head()"
   ]
  },
  {
   "cell_type": "code",
   "execution_count": 76,
   "metadata": {},
   "outputs": [],
   "source": [
    "df['DateTime'] = df['mmdd'].apply(lambda x: pd.to_datetime(str(x), format='%Y%m%d'))\n",
    "#df['date'] = pd.to_datetime(df['date'], format='%d%b%Y'): 30March2019"
   ]
  },
  {
   "cell_type": "code",
   "execution_count": 77,
   "metadata": {},
   "outputs": [
    {
     "data": {
      "text/html": [
       "<div>\n",
       "<style scoped>\n",
       "    .dataframe tbody tr th:only-of-type {\n",
       "        vertical-align: middle;\n",
       "    }\n",
       "\n",
       "    .dataframe tbody tr th {\n",
       "        vertical-align: top;\n",
       "    }\n",
       "\n",
       "    .dataframe thead th {\n",
       "        text-align: right;\n",
       "    }\n",
       "</style>\n",
       "<table border=\"1\" class=\"dataframe\">\n",
       "  <thead>\n",
       "    <tr style=\"text-align: right;\">\n",
       "      <th></th>\n",
       "      <th>PharmacyID</th>\n",
       "      <th>fac_id</th>\n",
       "      <th>mmdd</th>\n",
       "      <th>pack</th>\n",
       "      <th>estimated</th>\n",
       "      <th>cum</th>\n",
       "      <th>leftover</th>\n",
       "      <th>color</th>\n",
       "      <th>name</th>\n",
       "      <th>lat</th>\n",
       "      <th>lng</th>\n",
       "      <th>DateTime</th>\n",
       "      <th>name-cum</th>\n",
       "    </tr>\n",
       "  </thead>\n",
       "  <tbody>\n",
       "    <tr>\n",
       "      <th>0</th>\n",
       "      <td>1PITT</td>\n",
       "      <td>15</td>\n",
       "      <td>20200125</td>\n",
       "      <td>565</td>\n",
       "      <td>791.0</td>\n",
       "      <td>791</td>\n",
       "      <td>3209.0</td>\n",
       "      <td>#4393c3</td>\n",
       "      <td>PR - AMHERST MEADOWS</td>\n",
       "      <td>40.81611</td>\n",
       "      <td>-81.524592</td>\n",
       "      <td>2020-01-25</td>\n",
       "      <td>\\nPR - AMHERST MEADOWS: 791</td>\n",
       "    </tr>\n",
       "    <tr>\n",
       "      <th>1</th>\n",
       "      <td>1PITT</td>\n",
       "      <td>15</td>\n",
       "      <td>20200126</td>\n",
       "      <td>547</td>\n",
       "      <td>765.8</td>\n",
       "      <td>1556</td>\n",
       "      <td>2443.2</td>\n",
       "      <td>#d1e5f0</td>\n",
       "      <td>PR - AMHERST MEADOWS</td>\n",
       "      <td>40.81611</td>\n",
       "      <td>-81.524592</td>\n",
       "      <td>2020-01-26</td>\n",
       "      <td>\\nPR - AMHERST MEADOWS: 1556</td>\n",
       "    </tr>\n",
       "    <tr>\n",
       "      <th>2</th>\n",
       "      <td>1PITT</td>\n",
       "      <td>15</td>\n",
       "      <td>20200127</td>\n",
       "      <td>555</td>\n",
       "      <td>777.0</td>\n",
       "      <td>2333</td>\n",
       "      <td>1666.2</td>\n",
       "      <td>#fddbc7</td>\n",
       "      <td>PR - AMHERST MEADOWS</td>\n",
       "      <td>40.81611</td>\n",
       "      <td>-81.524592</td>\n",
       "      <td>2020-01-27</td>\n",
       "      <td>\\nPR - AMHERST MEADOWS: 2333</td>\n",
       "    </tr>\n",
       "    <tr>\n",
       "      <th>3</th>\n",
       "      <td>1PITT</td>\n",
       "      <td>15</td>\n",
       "      <td>20200128</td>\n",
       "      <td>578</td>\n",
       "      <td>809.2</td>\n",
       "      <td>3143</td>\n",
       "      <td>857.0</td>\n",
       "      <td>#d6604d</td>\n",
       "      <td>PR - AMHERST MEADOWS</td>\n",
       "      <td>40.81611</td>\n",
       "      <td>-81.524592</td>\n",
       "      <td>2020-01-28</td>\n",
       "      <td>\\nPR - AMHERST MEADOWS: 3143</td>\n",
       "    </tr>\n",
       "    <tr>\n",
       "      <th>4</th>\n",
       "      <td>1PITT</td>\n",
       "      <td>15</td>\n",
       "      <td>20200129</td>\n",
       "      <td>542</td>\n",
       "      <td>758.8</td>\n",
       "      <td>3901</td>\n",
       "      <td>98.2</td>\n",
       "      <td>#b2182b</td>\n",
       "      <td>PR - AMHERST MEADOWS</td>\n",
       "      <td>40.81611</td>\n",
       "      <td>-81.524592</td>\n",
       "      <td>2020-01-29</td>\n",
       "      <td>\\nPR - AMHERST MEADOWS: 3901</td>\n",
       "    </tr>\n",
       "  </tbody>\n",
       "</table>\n",
       "</div>"
      ],
      "text/plain": [
       "  PharmacyID  fac_id      mmdd  pack  estimated   cum  leftover    color  \\\n",
       "0      1PITT      15  20200125   565      791.0   791    3209.0  #4393c3   \n",
       "1      1PITT      15  20200126   547      765.8  1556    2443.2  #d1e5f0   \n",
       "2      1PITT      15  20200127   555      777.0  2333    1666.2  #fddbc7   \n",
       "3      1PITT      15  20200128   578      809.2  3143     857.0  #d6604d   \n",
       "4      1PITT      15  20200129   542      758.8  3901      98.2  #b2182b   \n",
       "\n",
       "                   name       lat        lng   DateTime  \\\n",
       "0  PR - AMHERST MEADOWS  40.81611 -81.524592 2020-01-25   \n",
       "1  PR - AMHERST MEADOWS  40.81611 -81.524592 2020-01-26   \n",
       "2  PR - AMHERST MEADOWS  40.81611 -81.524592 2020-01-27   \n",
       "3  PR - AMHERST MEADOWS  40.81611 -81.524592 2020-01-28   \n",
       "4  PR - AMHERST MEADOWS  40.81611 -81.524592 2020-01-29   \n",
       "\n",
       "                       name-cum  \n",
       "0   \\nPR - AMHERST MEADOWS: 791  \n",
       "1  \\nPR - AMHERST MEADOWS: 1556  \n",
       "2  \\nPR - AMHERST MEADOWS: 2333  \n",
       "3  \\nPR - AMHERST MEADOWS: 3143  \n",
       "4  \\nPR - AMHERST MEADOWS: 3901  "
      ]
     },
     "execution_count": 77,
     "metadata": {},
     "output_type": "execute_result"
    }
   ],
   "source": [
    "# concat 2 columns\n",
    "cols = ['name', 'cum']\n",
    "df['name-cum'] = df[cols].apply(lambda x: '\\n' + ': '.join(x.dropna().astype(str)), axis=1)\n",
    "df.head()"
   ]
  },
  {
   "cell_type": "code",
   "execution_count": 78,
   "metadata": {},
   "outputs": [],
   "source": [
    "def create_geojson_features(df):\n",
    "    print('> Creating GeoJSON features...')\n",
    "    features = []\n",
    "    for _, row in df.iterrows():\n",
    "        feature = {\n",
    "            'type': 'Feature',\n",
    "            'geometry': {\n",
    "                'type':'Point', \n",
    "                'coordinates':[row['lng'],row['lat']]\n",
    "            },\n",
    "            'properties': {\n",
    "                'time': row['DateTime'].date().__str__(),\n",
    "                'style': {'color' : row['color']},\n",
    "                'icon': 'circle',\n",
    "                'popup': row['name-cum'],\n",
    "                'iconstyle':{\n",
    "                    'fillColor': row['color'],\n",
    "                    'fillOpacity': 0.8,\n",
    "                    'stroke': 'true',\n",
    "                    'radius': 7\n",
    "                }\n",
    "            }\n",
    "        }\n",
    "        features.append(feature)\n",
    "    return features"
   ]
  },
  {
   "cell_type": "code",
   "execution_count": 79,
   "metadata": {},
   "outputs": [],
   "source": [
    "def make_map(features):\n",
    "    print('> Making map...')\n",
    "    coords_point=[39.8283, -98.5795]\n",
    "    hub_map = folium.Map(location=coords_point, control_scale=True, zoom_start=5)\n",
    "\n",
    "    TimestampedGeoJson(\n",
    "        {'type': 'FeatureCollection',\n",
    "        'features': features}\n",
    "        , period='P1D' #\n",
    "        , add_last_point=True\n",
    "        , auto_play=False\n",
    "        , loop=False\n",
    "        , max_speed=1\n",
    "        , loop_button=True\n",
    "        , date_options='YYYY/MM/DD'\n",
    "        , time_slider_drag_update=True\n",
    "    ).add_to(hub_map)\n",
    "    print('> Done.')\n",
    "    return hub_map"
   ]
  },
  {
   "cell_type": "code",
   "execution_count": 80,
   "metadata": {},
   "outputs": [],
   "source": [
    "def plot_hub(hub_ID):\n",
    "    \n",
    "\n",
    "    features = create_geojson_features(df)\n",
    "    return make_map(features), df"
   ]
  },
  {
   "cell_type": "code",
   "execution_count": 81,
   "metadata": {},
   "outputs": [
    {
     "name": "stdout",
     "output_type": "stream",
     "text": [
      "> Creating GeoJSON features...\n",
      "> Making map...\n",
      "> Done.\n"
     ]
    },
    {
     "data": {
      "text/html": [
       "<div style=\"width:100%;\"><div style=\"position:relative;width:100%;height:0;padding-bottom:60%;\"><iframe src=\"data:text/html;charset=utf-8;base64,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\" style=\"position:absolute;width:100%;height:100%;left:0;top:0;border:none !important;\" allowfullscreen webkitallowfullscreen mozallowfullscreen></iframe></div></div>"
      ],
      "text/plain": [
       "<folium.folium.Map at 0x2c535780208>"
      ]
     },
     "execution_count": 81,
     "metadata": {},
     "output_type": "execute_result"
    }
   ],
   "source": [
    "hub_map, df = plot_hub(1)\n",
    "hub_map.save('map/map_hub.html')\n",
    "hub_map"
   ]
  },
  {
   "cell_type": "code",
   "execution_count": null,
   "metadata": {},
   "outputs": [],
   "source": []
  },
  {
   "cell_type": "code",
   "execution_count": null,
   "metadata": {},
   "outputs": [],
   "source": []
  },
  {
   "cell_type": "code",
   "execution_count": null,
   "metadata": {},
   "outputs": [],
   "source": []
  },
  {
   "cell_type": "code",
   "execution_count": null,
   "metadata": {},
   "outputs": [],
   "source": []
  }
 ],
 "metadata": {
  "kernelspec": {
   "display_name": "Python 3",
   "language": "python",
   "name": "python3"
  },
  "language_info": {
   "codemirror_mode": {
    "name": "ipython",
    "version": 3
   },
   "file_extension": ".py",
   "mimetype": "text/x-python",
   "name": "python",
   "nbconvert_exporter": "python",
   "pygments_lexer": "ipython3",
   "version": "3.7.1"
  }
 },
 "nbformat": 4,
 "nbformat_minor": 2
}
