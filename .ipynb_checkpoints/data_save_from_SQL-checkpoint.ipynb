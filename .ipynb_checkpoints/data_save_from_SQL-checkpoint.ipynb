{
 "cells": [
  {
   "cell_type": "code",
   "execution_count": 1,
   "metadata": {},
   "outputs": [],
   "source": [
    "# adding meta data for coords points"
   ]
  },
  {
   "cell_type": "code",
   "execution_count": 3,
   "metadata": {},
   "outputs": [],
   "source": [
    "import pandas as pd\n",
    "import pyodbc"
   ]
  },
  {
   "cell_type": "code",
   "execution_count": 11,
   "metadata": {},
   "outputs": [],
   "source": [
    "# parameters\n",
    "server ='ARX-pharmfed'\n",
    "db ='PHARMDB'\n",
    "UID = 'SQL.Research'\n",
    "PWD ='R3search'\n",
    "\n",
    "\n",
    "# create the connection\n",
    "#conn = pyodbc.connect('DRIVER={ODBC Driver 17 for SQL Server};SERVER=ARX-pharmfed;DATABASE=ResearchDB;UID=SQL.Research;PWD=R3search')\n",
    "conn = pyodbc.connect('DRIVER={SQL Server};SERVER=' + server + ';DATABASE=' + db + ';UID=' + UID + ';PWD=' + PWD)\n",
    "\n",
    "# query db sql 자리에 쿼리를 복사해서 넣으면 됨. \n",
    "sql =\"\"\"SELECT [PharmacyID]\n",
    "      ,[fac_id]\n",
    "      ,[dsps_num]\n",
    "      ,[dsps_dtm]\n",
    "      ,[change_dtm]    \n",
    "  FROM ETL..[Dsps_medicine_history] (nolock) \n",
    "  where pharmacyID = '6FRES'\n",
    "  and dsps_dtm between '20200128000000' and '20200131000000' \"\"\"\n",
    "\n",
    "df = pd.read_sql(sql, conn)\n",
    "df.to_csv('data/raw/dsps_6_0128-0131.csv', index=False, header=True)"
   ]
  },
  {
   "cell_type": "code",
   "execution_count": 7,
   "metadata": {},
   "outputs": [
    {
     "name": "stdout",
     "output_type": "stream",
     "text": [
      "<class 'pandas.core.frame.DataFrame'>\n",
      "RangeIndex: 72083 entries, 0 to 72082\n",
      "Data columns (total 5 columns):\n",
      "PharmacyID    72083 non-null object\n",
      "fac_id        72083 non-null object\n",
      "dsps_num      72083 non-null object\n",
      "dsps_dtm      72083 non-null object\n",
      "change_dtm    72083 non-null object\n",
      "dtypes: object(5)\n",
      "memory usage: 2.7+ MB\n"
     ]
    }
   ],
   "source": []
  }
 ],
 "metadata": {
  "kernelspec": {
   "display_name": "Python 3",
   "language": "python",
   "name": "python3"
  },
  "language_info": {
   "codemirror_mode": {
    "name": "ipython",
    "version": 3
   },
   "file_extension": ".py",
   "mimetype": "text/x-python",
   "name": "python",
   "nbconvert_exporter": "python",
   "pygments_lexer": "ipython3",
   "version": "3.7.1"
  }
 },
 "nbformat": 4,
 "nbformat_minor": 2
}
